{
 "cells": [
  {
   "cell_type": "code",
   "execution_count": 29,
   "id": "9fc5213b",
   "metadata": {},
   "outputs": [],
   "source": [
    "import numpy as np # linear algebra\n",
    "import struct\n",
    "from array import array\n",
    "import os"
   ]
  },
  {
   "cell_type": "code",
   "execution_count": 30,
   "id": "339976c2",
   "metadata": {},
   "outputs": [],
   "source": [
    "class MnistDataloader(object):\n",
    "    def __init__(self, training_images_filepath,training_labels_filepath,\n",
    "                 test_images_filepath, test_labels_filepath):\n",
    "        self.training_images_filepath = training_images_filepath\n",
    "        self.training_labels_filepath = training_labels_filepath\n",
    "        self.test_images_filepath = test_images_filepath\n",
    "        self.test_labels_filepath = test_labels_filepath\n",
    "    \n",
    "    def read_images_labels(self, images_filepath, labels_filepath):        \n",
    "        labels = []\n",
    "        with open(labels_filepath, 'rb') as file:\n",
    "            magic, size = struct.unpack(\">II\", file.read(8))\n",
    "            if magic != 2049:\n",
    "                raise ValueError('Magic number mismatch, expected 2049, got {}'.format(magic))\n",
    "            labels = array(\"B\", file.read())        \n",
    "        \n",
    "        with open(images_filepath, 'rb') as file:\n",
    "            magic, size, rows, cols = struct.unpack(\">IIII\", file.read(16))\n",
    "            if magic != 2051:\n",
    "                raise ValueError('Magic number mismatch, expected 2051, got {}'.format(magic))\n",
    "            image_data = array(\"B\", file.read())        \n",
    "        images = []\n",
    "        for i in range(size):\n",
    "            images.append([0] * rows * cols)\n",
    "        for i in range(size):\n",
    "            img = np.array(image_data[i * rows * cols:(i + 1) * rows * cols])\n",
    "            img = img.reshape(28, 28)\n",
    "            images[i][:] = img            \n",
    "        \n",
    "        return images, labels\n",
    "    \n",
    "\n",
    "    def load_data(self):\n",
    "        x_train, y_train = self.read_images_labels(self.training_images_filepath, self.training_labels_filepath)\n",
    "        x_test, y_test = self.read_images_labels(self.test_images_filepath, self.test_labels_filepath)\n",
    "        return (x_train, y_train),(x_test, y_test)  \n",
    "    "
   ]
  },
  {
   "cell_type": "code",
   "execution_count": 31,
   "id": "afe2f9ab",
   "metadata": {},
   "outputs": [],
   "source": [
    "path  = os.getcwd()+'/archive'\n",
    "#training images and labels\n",
    "training_images_filepath = os.path.join(path, 'train-images-idx3-ubyte/train-images-idx3-ubyte')\n",
    "training_labels_filepath = os.path.join(path, 'train-labels-idx1-ubyte/train-labels-idx1-ubyte')\n",
    "\n",
    "#testing images and labels\n",
    "testing_images_filepath = os.path.join(path, 't10k-images-idx3-ubyte/t10k-images-idx3-ubyte')\n",
    "testing_labels_filepath = os.path.join(path, 't10k-labels-idx1-ubyte/t10k-labels-idx1-ubyte')\n",
    "\n",
    "mnist_dataloader = MnistDataloader(training_images_filepath, training_labels_filepath,\n",
    "                                      testing_images_filepath, testing_labels_filepath)\n",
    "\n",
    "(x_train, y_train), (x_test, y_test) = mnist_dataloader.load_data()"
   ]
  },
  {
   "cell_type": "code",
   "execution_count": 32,
   "id": "a2aac4f5",
   "metadata": {},
   "outputs": [
    {
     "data": {
      "text/plain": [
       "'\\nimport matplotlib.pyplot as plt\\n%matplotlib inline\\n\\nprint(len(x_train))\\n\\nall = np.array([])\\nh = 10\\nw = 10\\nfig = plt.figure(figsize=(8, 8))\\nfor i in range(h*w):\\n    ax = fig.add_subplot(h, w, i+1)\\n    ax.imshow(np.array(x_train[i]).reshape((28, 28)))\\n    ax.axis(\"off\")\\n    #ax.set_title(str(y_train[i]))\\n'"
      ]
     },
     "execution_count": 32,
     "metadata": {},
     "output_type": "execute_result"
    }
   ],
   "source": [
    "'''\n",
    "import matplotlib.pyplot as plt\n",
    "%matplotlib inline\n",
    "\n",
    "print(len(x_train))\n",
    "\n",
    "all = np.array([])\n",
    "h = 10\n",
    "w = 10\n",
    "fig = plt.figure(figsize=(8, 8))\n",
    "for i in range(h*w):\n",
    "    ax = fig.add_subplot(h, w, i+1)\n",
    "    ax.imshow(np.array(x_train[i]).reshape((28, 28)))\n",
    "    ax.axis(\"off\")\n",
    "    #ax.set_title(str(y_train[i]))\n",
    "'''"
   ]
  },
  {
   "cell_type": "code",
   "execution_count": 33,
   "metadata": {},
   "outputs": [],
   "source": [
    "import torch\n",
    "import torch.nn as nn\n",
    "\n",
    "class mnistNet(nn.Module):\n",
    "    def __init__(self):\n",
    "        super(mnistNet, self).__init__()\n",
    "\n",
    "        self.conv1 = nn.Conv2d(1, 32, 3, 1)\n",
    "        self.relu = nn.ReLU()\n",
    "        self.conv2 = nn.Conv2d(32, 64, 3, 1)\n",
    "        self.maxpool = nn.MaxPool2d(2)\n",
    "        self.dropout1 = nn.Dropout(0.25)\n",
    "        self.dropout2 = nn.Dropout(0.5)\n",
    "        self.fc1 = nn.Linear(9216, 128)\n",
    "        self.fc2 = nn.Linear(128, 10)\n",
    "        \n",
    "    def forward(self, x):\n",
    "        x = self.conv1(x)\n",
    "        x = self.relu(x)\n",
    "        x = self.conv2(x)\n",
    "        x = self.maxpool(x)\n",
    "        x = self.dropout1(x)\n",
    "        x = torch.flatten(x, 1)\n",
    "        x = self.fc1(x)\n",
    "        x = self.relu(x)\n",
    "        x = self.dropout2(x)\n",
    "        x = self.fc2(x)\n",
    "        \n",
    "        return x"
   ]
  },
  {
   "cell_type": "code",
   "execution_count": 34,
   "id": "c3978fce",
   "metadata": {},
   "outputs": [
    {
     "name": "stdout",
     "output_type": "stream",
     "text": [
      "start training!\n"
     ]
    },
    {
     "name": "stderr",
     "output_type": "stream",
     "text": [
      "100%|██████████| 1000/1000 [17:31<00:00,  1.05s/it]"
     ]
    },
    {
     "name": "stdout",
     "output_type": "stream",
     "text": [
      "finish training!\n"
     ]
    },
    {
     "name": "stderr",
     "output_type": "stream",
     "text": [
      "\n"
     ]
    }
   ],
   "source": [
    "model = mnistNet()\n",
    "optimizer = torch.optim.Adam(model.parameters(), lr=0.001)\n",
    "loss = nn.CrossEntropyLoss()\n",
    "\n",
    "\n",
    "x_train = torch.stack([torch.Tensor([i]) for i in x_train])\n",
    "y_train = torch.stack([torch.Tensor([i]) for i in y_train])\n",
    "\n",
    "x_test = torch.stack([torch.Tensor([i]) for i in x_test])\n",
    "y_test = torch.stack([torch.Tensor([i]) for i in y_test])\n",
    "\n",
    "from tqdm import tqdm as tq\n",
    "\n",
    "print(\"start training!\")\n",
    "\n",
    "batch_size = 32\n",
    "losses = []\n",
    "for i in tq(range(1000)):\n",
    "    sample = torch.randint(0, len(x_train), size=(batch_size,))\n",
    "    x_train_batch = x_train[sample]\n",
    "    y_train_batch = y_train[sample].reshape(batch_size).long()\n",
    "    optimizer.zero_grad()\n",
    "    output = model(x_train_batch)\n",
    "    loss_val = loss(output, y_train_batch)\n",
    "    losses.append(loss_val.item())\n",
    "    loss_val.backward()\n",
    "    optimizer.step()\n",
    "    #if i % 100 == 0:\n",
    "    #    print('Epoch: {}, Loss: {:.4f}'.format(i, loss_val.item()))\n",
    "\n",
    "print(\"finish training!\")"
   ]
  },
  {
   "cell_type": "code",
   "execution_count": 35,
   "id": "1debc151",
   "metadata": {},
   "outputs": [
    {
     "name": "stderr",
     "output_type": "stream",
     "text": [
      "100%|██████████| 10000/10000 [00:20<00:00, 498.67it/s]"
     ]
    },
    {
     "name": "stdout",
     "output_type": "stream",
     "text": [
      "error rate:  0.0908\n"
     ]
    },
    {
     "name": "stderr",
     "output_type": "stream",
     "text": [
      "\n"
     ]
    }
   ],
   "source": [
    "error = 0\n",
    "for i in tq(range(len(x_test))):\n",
    "    predict = model(x_test[i].reshape(1, 1, 28, 28))\n",
    "    truth = int(y_test[i])\n",
    "    predict = int(torch.argmax(predict))\n",
    "    error += (predict != truth)\n",
    "\n",
    "print(\"error rate: \", error/len(x_test))\n",
    "    "
   ]
  },
  {
   "cell_type": "code",
   "execution_count": 36,
   "id": "57f78bd1",
   "metadata": {},
   "outputs": [
    {
     "data": {
      "image/png": "[encoded data removed]",
      "text/plain": [
       "<Figure size 640x480 with 1 Axes>"
      ]
     },
     "metadata": {},
     "output_type": "display_data"
    }
   ],
   "source": [
    "import matplotlib.pyplot as plt\n",
    "plt.plot(losses)\n",
    "plt.show()"
   ]
  }
 ],
 "metadata": {
  "kernelspec": {
   "display_name": "Python 3 (ipykernel)",
   "language": "python",
   "name": "python3"
  },
  "language_info": {
   "codemirror_mode": {
    "name": "ipython",
    "version": 3
   },
   "file_extension": ".py",
   "mimetype": "text/x-python",
   "name": "python",
   "nbconvert_exporter": "python",
   "pygments_lexer": "ipython3",
   "version": "3.11.2"
  }
 },
 "nbformat": 4,
 "nbformat_minor": 5
}
